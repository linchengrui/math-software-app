{
 "cells": [
  {
   "cell_type": "markdown",
   "metadata": {},
   "source": [
    "# 使用format來填空"
   ]
  },
  {
   "cell_type": "code",
   "execution_count": 1,
   "metadata": {},
   "outputs": [],
   "source": [
    "%matplotlib inline\n",
    "import numpy as np\n",
    "import pandas as pd \n",
    "import matplotlib.pyplot as plt\n",
    "from numpy.random import choice\n",
    "from numpy.random import randint"
   ]
  },
  {
   "cell_type": "code",
   "execution_count": 2,
   "metadata": {},
   "outputs": [
    {
     "name": "stdout",
     "output_type": "stream",
     "text": [
      "你叫甚麼名字呢: Benny\n",
      "你大幾了: 大三\n",
      "你讀什麼系呢: 資訊管理學系\n",
      "興趣是甚麼呢: 玩手機\n",
      "嗨，我是Benny，現在大三了，是資訊管理學系的，興趣是玩手機\n"
     ]
    }
   ],
   "source": [
    "name = input(\"你叫甚麼名字呢: \")\n",
    "grade = input(\"你大幾了: \")\n",
    "department = input(\"你讀什麼系呢: \")\n",
    "hobby = input(\"興趣是甚麼呢: \")\n",
    "print(\"嗨，我是{}，現在{}了，是{}的，興趣是{}\".format(name, grade, department,hobby))"
   ]
  },
  {
   "cell_type": "code",
   "execution_count": null,
   "metadata": {},
   "outputs": [],
   "source": []
  }
 ],
 "metadata": {
  "kernelspec": {
   "display_name": "Python 3",
   "language": "python",
   "name": "python3"
  },
  "language_info": {
   "codemirror_mode": {
    "name": "ipython",
    "version": 3
   },
   "file_extension": ".py",
   "mimetype": "text/x-python",
   "name": "python",
   "nbconvert_exporter": "python",
   "pygments_lexer": "ipython3",
   "version": "3.7.3"
  }
 },
 "nbformat": 4,
 "nbformat_minor": 2
}
