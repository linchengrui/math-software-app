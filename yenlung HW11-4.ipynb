{
 "cells": [
  {
   "cell_type": "code",
   "execution_count": 2,
   "metadata": {},
   "outputs": [
    {
     "name": "stdout",
     "output_type": "stream",
     "text": [
      "Rolling the dices...\n",
      "The values are....\n",
      "3\n",
      "6\n",
      "Roll the dices again?y\n",
      "Rolling the dices...\n",
      "The values are....\n",
      "6\n",
      "5\n",
      "Roll the dices again?y\n",
      "Rolling the dices...\n",
      "The values are....\n",
      "2\n",
      "3\n",
      "Roll the dices again?y\n",
      "Rolling the dices...\n",
      "The values are....\n",
      "2\n",
      "3\n",
      "Roll the dices again?no\n"
     ]
    }
   ],
   "source": [
    "import random\n",
    "min = 1\n",
    "max = 6\n",
    "\n",
    "roll_again = \"yes\"\n",
    "\n",
    "while(roll_again == \"yes\" or roll_again == \"y\"):\n",
    "    print(\"Rolling the dices...\")\n",
    "    print(\"The values are....\")\n",
    "    print(random.randint(min, max))\n",
    "    print(random.randint(min, max))\n",
    "\n",
    "    roll_again = input(\"Roll the dices again?\")\n",
    "    if(roll_again == \"no\"):\n",
    "        break\n"
   ]
  },
  {
   "cell_type": "code",
   "execution_count": null,
   "metadata": {},
   "outputs": [],
   "source": []
  },
  {
   "cell_type": "code",
   "execution_count": null,
   "metadata": {},
   "outputs": [],
   "source": []
  }
 ],
 "metadata": {
  "kernelspec": {
   "display_name": "Python 3",
   "language": "python",
   "name": "python3"
  },
  "language_info": {
   "codemirror_mode": {
    "name": "ipython",
    "version": 3
   },
   "file_extension": ".py",
   "mimetype": "text/x-python",
   "name": "python",
   "nbconvert_exporter": "python",
   "pygments_lexer": "ipython3",
   "version": "3.7.3"
  }
 },
 "nbformat": 4,
 "nbformat_minor": 2
}
