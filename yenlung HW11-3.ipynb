{
 "cells": [
  {
   "cell_type": "code",
   "execution_count": 3,
   "metadata": {},
   "outputs": [],
   "source": [
    "%matplotlib inline\n",
    "\n",
    "import numpy as np\n",
    "import matplotlib.pyplot as plt\n",
    "import pandas as pd"
   ]
  },
  {
   "cell_type": "code",
   "execution_count": null,
   "metadata": {},
   "outputs": [
    {
     "name": "stdout",
     "output_type": "stream",
     "text": [
      "中獎號碼是多少？  146355\n",
      "開始對獎\n",
      "輸入後三碼(輸入L離開)：  496\n",
      "嗚嗚..沒有中喔!\n",
      "輸入後三碼(輸入L離開)：  627\n",
      "嗚嗚..沒有中喔!\n",
      "輸入後三碼(輸入L離開)：  054\n",
      "嗚嗚..沒有中喔!\n",
      "輸入後三碼(輸入L離開)：  355\n",
      "有機會喔!請輸入完整號碼：146355\n",
      "中獎了!!!!!\n"
     ]
    }
   ],
   "source": [
    "p = input(\"中獎號碼是多少？  \")\n",
    "\n",
    "print('開始對獎')\n",
    "while True:\n",
    "    num = input(\"輸入後三碼(輸入L離開)：  \")\n",
    "\n",
    "    if  'L' in num :\n",
    "        break\n",
    "            \n",
    "    elif p[-3:] in num :\n",
    "        full = input(\"有機會喔!請輸入完整號碼：\")\n",
    "        if full == p:\n",
    "            print(\"中獎了!!!!!\")\n",
    "        else:\n",
    "            print(\"沒中QQ\")\n",
    "\n",
    "    else:\n",
    "        print('嗚嗚..沒有中喔!')"
   ]
  },
  {
   "cell_type": "code",
   "execution_count": null,
   "metadata": {},
   "outputs": [],
   "source": []
  }
 ],
 "metadata": {
  "kernelspec": {
   "display_name": "Python 3",
   "language": "python",
   "name": "python3"
  },
  "language_info": {
   "codemirror_mode": {
    "name": "ipython",
    "version": 3
   },
   "file_extension": ".py",
   "mimetype": "text/x-python",
   "name": "python",
   "nbconvert_exporter": "python",
   "pygments_lexer": "ipython3",
   "version": "3.7.3"
  }
 },
 "nbformat": 4,
 "nbformat_minor": 2
}
