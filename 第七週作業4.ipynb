{
 "cells": [
  {
   "cell_type": "code",
   "execution_count": 1,
   "metadata": {},
   "outputs": [
    {
     "name": "stdout",
     "output_type": "stream",
     "text": [
      "红桃 6\n",
      "黑桃 9\n",
      "红桃 2\n",
      "方片 K\n"
     ]
    }
   ],
   "source": [
    "import random\n",
    "# 定义一副未洗的牌[0, 1....51]\n",
    "porks = [i for i in range(52)]\n",
    "# 定义花色\n",
    "suits = ['红桃', '黑桃', '方片', '梅花']\n",
    "# 定义编号\n",
    "ranks = ['A', '2', '3', '4', '5', '6', '7', '8',\n",
    "         '9', '10', 'J', 'Q', 'K']\n",
    "# 洗牌:\n",
    "# 遍历循环porks\n",
    "for i in range(52):\n",
    "    # 随机得到0-51整数随机数\n",
    "    randomIndex = random.randint(0, 51)\n",
    "    # 交换\n",
    "    porks[i], porks[randomIndex] = porks[randomIndex], porks[i]\n",
    "\n",
    "# 发牌 循环遍历头4张牌，整除得到结果，到suits取花色.取余得到结果，到ranks中得到编号\n",
    "for i in range(4):\n",
    "    suit = suits[porks[i] // 13]\n",
    "    rank = ranks[porks[i] % 13]\n",
    "    print(suit, rank)"
   ]
  },
  {
   "cell_type": "code",
   "execution_count": null,
   "metadata": {},
   "outputs": [],
   "source": []
  }
 ],
 "metadata": {
  "kernelspec": {
   "display_name": "Python 3",
   "language": "python",
   "name": "python3"
  },
  "language_info": {
   "codemirror_mode": {
    "name": "ipython",
    "version": 3
   },
   "file_extension": ".py",
   "mimetype": "text/x-python",
   "name": "python",
   "nbconvert_exporter": "python",
   "pygments_lexer": "ipython3",
   "version": "3.7.3"
  }
 },
 "nbformat": 4,
 "nbformat_minor": 2
}
