{
 "cells": [
  {
   "cell_type": "markdown",
   "metadata": {},
   "source": [
    "# 把一副撲克牌發完"
   ]
  },
  {
   "cell_type": "code",
   "execution_count": 5,
   "metadata": {},
   "outputs": [],
   "source": [
    "%matplotlib inline\n",
    "import numpy as np\n",
    "import pandas as pd\n",
    "import matplotlib.pyplot as plt\n"
   ]
  },
  {
   "cell_type": "code",
   "execution_count": 8,
   "metadata": {},
   "outputs": [
    {
     "name": "stdout",
     "output_type": "stream",
     "text": [
      "['♣ 4', '♣ K', '♦ 9', '♦ 1', '♠ 9', '♥ K', '♦ 8', '♠ 8', '♦ J', '♥ 8', '♠ 10', '♦ 6', '♣ 5', '♦ 10', '♥ 4', '♦ 4', '♣ 3', '♥ 1', '♦ 7', '♦ 3', '♣ 7', '♣ 1', '♥ J', '♠ Q', '♦ Q', '♠ 4', '♣ 2', '☺', '♠ 6', '♥ 9', '♣ 10', '♣ 8', '♦ 2', '♥ Q', '♣ 9', '☻', '♥ 3', '♠ J', '♥ 5', '♥ 10', '♣ 6', '♣ Q', '♣ J', '♥ 7', '♠ 2', '♠ 3', '♦ K', '♥ 2', '♠ K', '♠ 7', '♠ 1', '♦ 5', '♥ 6', '♠ 5']\n",
      "打印第1个人的底牌\n",
      "['♣ 4', '♣ K', '♦ 9', '♦ 1', '♠ 9', '♥ K', '♦ 8', '♠ 8', '♦ J', '♥ 8', '♠ 10', '♦ 6', '♣ 5', '♦ 10']\n",
      "打印第2个人的底牌\n",
      "['♥ 4', '♦ 4', '♣ 3', '♥ 1', '♦ 7', '♦ 3', '♣ 7', '♣ 1', '♥ J', '♠ Q', '♦ Q', '♠ 4', '♣ 2', '☺']\n",
      "打印第3个人的底牌\n",
      "['♠ 6', '♥ 9', '♣ 10', '♣ 8', '♦ 2', '♥ Q', '♣ 9', '☻', '♥ 3', '♠ J', '♥ 5', '♥ 10', '♣ 6', '♣ Q']\n",
      "打印第4个人的底牌\n",
      "['♣ J', '♥ 7', '♠ 2', '♠ 3', '♦ K', '♥ 2', '♠ K', '♠ 7', '♠ 1', '♦ 5', '♥ 6', '♠ 5']\n"
     ]
    }
   ],
   "source": [
    "import random\n",
    "def get_card():\n",
    "    for i in f:\n",
    "        for j in range(1,11):\n",
    "            s = i + \" \" + str(j)\n",
    "            card.append(s)\n",
    "        for k in king:\n",
    "            s1 = i + \" \" + k\n",
    "            card.append(s1)\n",
    "    return card\n",
    "f = [\"♦\", \"♣\", \"♥\", \"♠\"]\n",
    "\n",
    "king = [\"J\", \"Q\", \"K\"]\n",
    "card = [\"☺\", \"☻\", ]\n",
    "get_card()\n",
    "#洗牌\n",
    "random.shuffle(card)\n",
    "print(card)\n",
    "count = 1\n",
    "#底牌范围\n",
    "i = 0\n",
    "j = 14\n",
    "while True:\n",
    "    n = input(\"打印第{}个人的底牌\".format(count))\n",
    "    if count <4 :\n",
    "        print(card[i : j])\n",
    "        i += 14\n",
    "        j += 14\n",
    "        count += 1\n",
    "    else:\n",
    "        print(card[i:])\n",
    "        break\n"
   ]
  },
  {
   "cell_type": "code",
   "execution_count": null,
   "metadata": {},
   "outputs": [],
   "source": []
  }
 ],
 "metadata": {
  "kernelspec": {
   "display_name": "Python 3",
   "language": "python",
   "name": "python3"
  },
  "language_info": {
   "codemirror_mode": {
    "name": "ipython",
    "version": 3
   },
   "file_extension": ".py",
   "mimetype": "text/x-python",
   "name": "python",
   "nbconvert_exporter": "python",
   "pygments_lexer": "ipython3",
   "version": "3.7.3"
  }
 },
 "nbformat": 4,
 "nbformat_minor": 2
}
