{
 "cells": [
  {
   "cell_type": "markdown",
   "metadata": {},
   "source": [
    "# 猜ㄉㄢ"
   ]
  },
  {
   "cell_type": "code",
   "execution_count": 1,
   "metadata": {},
   "outputs": [
    {
     "name": "stdout",
     "output_type": "stream",
     "text": [
      "_ _ _ _ _ _ 猜一個字母:srt\n",
      "沒猜對\n",
      "你還有 9 次\n",
      "_ _ _ _ _ _ 猜一個字母:ap\n",
      "p a p a _ a 猜一個字母:r\n",
      "沒猜對\n",
      "你還有 8 次\n",
      "p a p a _ a 猜一個字母:papaya\n",
      "p a p a y a 你贏了\n"
     ]
    }
   ],
   "source": [
    "import time\n",
    "from random import*\n",
    "guesses = ''\n",
    "turns = 10\n",
    "words = 'apple banana cherry coconut durian grape grapefruit guava melon lemon lichee orange kiwi mangosteen mulberry papaya pear persimmon pineapple tangerine watermelon'.split()\n",
    "\n",
    "def getWord(wordList):\n",
    "    n = randint(0,len(wordList)-1)\n",
    "    return wordList[n]\n",
    "word = getWord(words)\n",
    "\n",
    "while turns > 0:         \n",
    "    failed = 0              \n",
    "    for char in word:      \n",
    "        if char in guesses:      \n",
    "            print(char,end=\" \")    \n",
    "        else:\n",
    "            print(\"_\",end=\" \")     \n",
    "            failed += 1            \n",
    "    if failed == 0:        \n",
    "        print (\"你贏了\")  \n",
    "        break              \n",
    "    guess = input(\"猜一個字母:\") \n",
    "    guesses += guess                    \n",
    "    if guess not in word:  \n",
    "        turns -= 1        \n",
    "        print(\"沒猜對\")    \n",
    "        print(\"你還有\", + turns, '次')\n",
    "        if turns == 0:           \n",
    "            print(\"你輸了\")"
   ]
  },
  {
   "cell_type": "code",
   "execution_count": null,
   "metadata": {},
   "outputs": [],
   "source": []
  }
 ],
 "metadata": {
  "kernelspec": {
   "display_name": "Python 3",
   "language": "python",
   "name": "python3"
  },
  "language_info": {
   "codemirror_mode": {
    "name": "ipython",
    "version": 3
   },
   "file_extension": ".py",
   "mimetype": "text/x-python",
   "name": "python",
   "nbconvert_exporter": "python",
   "pygments_lexer": "ipython3",
   "version": "3.7.3"
  }
 },
 "nbformat": 4,
 "nbformat_minor": 2
}
