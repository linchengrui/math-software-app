{
 "cells": [
  {
   "cell_type": "markdown",
   "metadata": {},
   "source": [
    "# 用列表推導式提取出小於3000的數"
   ]
  },
  {
   "cell_type": "code",
   "execution_count": 12,
   "metadata": {},
   "outputs": [
    {
     "name": "stdout",
     "output_type": "stream",
     "text": [
      "[1, 4, 9, 16, 25, 324, 400, 576]\n"
     ]
    }
   ],
   "source": [
    "list = [1,2,3,4,5,18,20,24,56,61,67]\n",
    "def fun(x):\n",
    "    return x**2\n",
    "res = map(fun,list)\n",
    "res = [i for i in res if i < 3000]\n",
    "print(res)"
   ]
  },
  {
   "cell_type": "markdown",
   "metadata": {},
   "source": [
    "# 鍵盤輸入當月利潤I，求應發放獎金總數？"
   ]
  },
  {
   "cell_type": "code",
   "execution_count": 13,
   "metadata": {},
   "outputs": [
    {
     "name": "stdout",
     "output_type": "stream",
     "text": [
      "淨利潤:600000\n",
      "6000.0\n",
      "10000.0\n",
      "7500.0\n",
      "10000.0\n",
      "33500.0\n"
     ]
    }
   ],
   "source": [
    "i = int(input(\"淨利潤:\"))\n",
    "arr = [1000000, 600000, 400000, 200000, 100000, 0]\n",
    "rate = [0.01,0.015,0.03,0.05,0.075,0.1]\n",
    "r = 0\n",
    "for idx in range(0, 6):\n",
    "    if i > arr[idx]:\n",
    "        r+= (i - arr[idx])*rate[idx]\n",
    "        print((i - arr[idx])*rate[idx])\n",
    "        i = arr[idx]\n",
    "print(r)"
   ]
  },
  {
   "cell_type": "code",
   "execution_count": 1,
   "metadata": {},
   "outputs": [
    {
     "name": "stdout",
     "output_type": "stream",
     "text": [
      "You got:\n",
      "4 of Heart\n",
      "6 of Club\n",
      "7 of Club\n",
      "2 of Diamond\n",
      "11 of Club\n"
     ]
    }
   ],
   "source": [
    "import itertools, random\n",
    "deck = list(itertools.product(range(1,14),['Spade','Heart','Diamond','Club']))\n",
    "random.shuffle(deck)\n",
    "\n",
    "print(\"You got:\")\n",
    "for i in range(5):\n",
    "    print(deck[i][0], \"of\", deck[i][1])"
   ]
  },
  {
   "cell_type": "code",
   "execution_count": null,
   "metadata": {},
   "outputs": [],
   "source": []
  },
  {
   "cell_type": "code",
   "execution_count": null,
   "metadata": {},
   "outputs": [],
   "source": []
  },
  {
   "cell_type": "code",
   "execution_count": null,
   "metadata": {},
   "outputs": [],
   "source": []
  }
 ],
 "metadata": {
  "kernelspec": {
   "display_name": "Python 3",
   "language": "python",
   "name": "python3"
  },
  "language_info": {
   "codemirror_mode": {
    "name": "ipython",
    "version": 3
   },
   "file_extension": ".py",
   "mimetype": "text/x-python",
   "name": "python",
   "nbconvert_exporter": "python",
   "pygments_lexer": "ipython3",
   "version": "3.7.3"
  }
 },
 "nbformat": 4,
 "nbformat_minor": 2
}
